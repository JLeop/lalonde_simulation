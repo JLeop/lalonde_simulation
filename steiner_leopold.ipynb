{
 "cells": [
  {
   "cell_type": "markdown",
   "metadata": {},
   "source": [
    "<h1> EMPIRISCHES PROJEKT MIT DATENSIMULATIONEN </h1>\n",
    "<h3> von Julian Leopold (16-613-150) und Matthias Steiner (16‐619‐090)</h3>\n",
    "<br><br><br>"
   ]
  },
  {
   "cell_type": "markdown",
   "metadata": {},
   "source": [
    "<font size=\"6\"> Inhaltsverzeichnis </font>\n",
    "- - - \n",
    "[<font size=\"5\">1. Einleitung</font>](#1)<br><br>\n",
    "[<font size=\"5\">2. Vorbereitung der Programmierumgebung</font>](#2)<br><br>\n",
    "[<font size=\"5\">3. Daten</font>](#4)<br><br>\n",
    "[<font size=\"4\">3.1 Variablen</font>](#5)<br><br>\n",
    "[<font size=\"5\">4. Analyse</font>](#6)<br><br>\n",
    "[<font size=\"4\">4.1 Datenaufbereitung</font>](#7)<br><br>\n",
    "[<font size=\"4\">4.2 Datensimulation</font>](#8)<br><br>\n",
    "[<font size=\"4\">4.3 Implementierung des Schätzverfahrens</font>](#9)<br><br>\n",
    "[<font size=\"3\">4.3.1 Algorithmus zur Schätzung des Effekts der Teilnahme am Beschäftigungsprogramm (inklusive Standardfehler)</font>](#10)<br><br>\n",
    "[<font size=\"3\">4.3.2 Algorithmus zur Schätzung simulierten Effekte inklusive Standardfehler</font>](#11)<br><br>\n",
    "[<font size=\"4\">4.4 Evaluierung des Schätzverfahrens</font>](#12)<br><br>"
   ]
  },
  {
   "cell_type": "markdown",
   "metadata": {},
   "source": [
    "# 1. Einleitung\n",
    "<div class=\"alert alert-info\">\n",
    "Dieses empirische Projekt veranschaulicht die Verwendungsweise der Programmiersprache Python in der Analyse von Daten. Dazu werden Beobachtungen aus dem National Supported Work (NSW) Demonstration Programmes untersucht. Dieses in den USA umgesetzte Beschäftigungsprogramm zielte darauf ab, Langzeitarbeitslosen die für den Arbeitsmarkt notwendigen Fähigkeiten und Erfahrungen zu vermitteln, sodass diese nach Programmende selbstständig eine Beschäftigung finden können. <br>\n",
    "<br>\n",
    "Das Projekt besteht aus drei Teilen. Zu Beginn werden die Daten eingelesen und aufbereitet. Danach werden neue Daten mithilfe einer Monte Carlo Simulation generiert. In einem dritten Schritt wird eine Schätzstatistik, die den Effekt des Beschäftigungsprogramms misst, für die simulierten und die empirischen Daten berechnet und die Bootstrap Standardfehler dieser Schätzstatistiken ermittelt.<br>\n",
    "<br>\n",
    "Wir selbst haben uns den Anspruch gesetzt, einen möglichst grossen Teil des Projektes in objektorientierter Programmierweise zu schreiben. Obwohl dieses Vorgehen bei einem so kleinen Projekt nicht zwingend nötig ist, hilft es die Funktionsweise zu verstehen und bei einer späteren, umfangreicheren Arbeit wieder anzuwenden. <br>\n",
    "<br>\n",
    "<b>Arbeitsteilung:</b><br>\n",
    "Der ganze Code wurde sowohl von Matthias als auch Julian geschrieben, bearbeitet und verbessert. Aus diesem Grund ist eine Abgrenzung die eine sinnvolle, individuelle Bewertung zulassen würde nicht mehr möglich. Wir bitten Sie deshalb die folgende Arbeit, als gemeinsame Leistung zu bewerten.  \n",
    "<br>\n",
    "<b>Dokumentation:</b><br>\n",
    "Um unser Jupyter Notebook übersichtlicher zu gestalten verzichten wir auf ein zusätzliches PDF und Dokumentieren dieses Projekt im Notebook File, nachdem diese Möglichkeit im Unterricht erlaubt wurde.\n",
    "</div>"
   ]
  },
  {
   "cell_type": "markdown",
   "metadata": {},
   "source": [
    "<a id=\"1\"></a>\n",
    "# Vorbereitung der Programmierumgebung\n",
    "<div class=\"alert alert-info\">\n",
    "In einem ersten Schritt werden die benötigen Module importiert. Durch den Import dieser Module erhält man innerhalb des Scripts Zugriff auf vordefinierte Funktionen die das Arbeiten vereinfachen.\n",
    "</div>"
   ]
  },
  {
   "cell_type": "code",
   "execution_count": 1,
   "metadata": {
    "collapsed": true
   },
   "outputs": [],
   "source": [
    "# Importieren der benötigten Packages\n",
    "import numpy as np # Matrixalgebra, Funktionen für Zufallszahlen\n",
    "import matplotlib.pyplot as plt # 2D-Plots\n",
    "import pandas as pd # Datenmanipulation\n",
    "import math # Mathematische Operationen\n",
    "import ipywidgets as widgets # Widgets für Interaktionen\n",
    "from ipywidgets import interact, interactive, fixed, interact_manual # Widgets für Interaktionen\n",
    "\n",
    "# Zufallsgenerator setzen\n",
    "np.random.seed(12345)"
   ]
  },
  {
   "cell_type": "markdown",
   "metadata": {},
   "source": [
    "<a id=\"4\"></a>\n",
    "# 3. Daten\n",
    "<div class=\"alert alert-info\">\n",
    "Als nächstes werden die Daten innerhalb der Programmierumgebung verfügbar geladen. Dazu werden die beiden Text-Dateien <a href=\"http://www.nber.org/~rdehejia/data/nswre74_treated.txt\">nswre74_treated.txt</a> und <a href=\"http://www.nber.org/~rdehejia/data/psid_controls.txt\">psid_controls.txt</a> heruntergeladen und im gleichen Arbeitsverzeichnis abgelegt, wo sich auch dieses Jupyter Notebook befindet. Danach können die beiden Datensätze als Pandas Dataframe importiert und zusammengeführt werden.\n",
    "</div>"
   ]
  },
  {
   "cell_type": "code",
   "execution_count": 2,
   "metadata": {},
   "outputs": [
    {
     "name": "stderr",
     "output_type": "stream",
     "text": [
      "C:\\ProgramData\\Anaconda3\\lib\\site-packages\\ipykernel_launcher.py:8: ParserWarning: Falling back to the 'python' engine because the 'c' engine does not support regex separators (separators > 1 char and different from '\\s+' are interpreted as regex); you can avoid this warning by specifying engine='python'.\n",
      "  \n",
      "C:\\ProgramData\\Anaconda3\\lib\\site-packages\\ipykernel_launcher.py:14: ParserWarning: Falling back to the 'python' engine because the 'c' engine does not support regex separators (separators > 1 char and different from '\\s+' are interpreted as regex); you can avoid this warning by specifying engine='python'.\n",
      "  \n"
     ]
    }
   ],
   "source": [
    "# Definition der Spaltennamen\n",
    "col_names = [\"treated\", \"age\", \"educ\", \"black\", \"hisp\", \"married\", \"no-deg\", \"RE74\", \"RE75\",\"RE78\"]\n",
    "\n",
    "# Einlesen des Datensatzes nswre74_treated.txt per Link\n",
    "df_treated = pd.read_csv('nswre74_treated.txt',\n",
    "                         header=None,\n",
    "                         sep=\"  \",\n",
    "                         names = col_names)\n",
    "\n",
    "# Einlesen des Datensatzes psid_controls.txt aus dem gleichen Ordner wie das .py file\n",
    "df_controls = pd.read_csv('psid_controls.txt',\n",
    "                          header=None,\n",
    "                          sep=\"  \",\n",
    "                          names = col_names)\n",
    "\n",
    "# Zusammenführen der beiden Datensätze\n",
    "df_total = pd.concat( [ df_controls, df_treated ], axis = 0)"
   ]
  },
  {
   "cell_type": "markdown",
   "metadata": {},
   "source": [
    "<a id=\"5\"></a>\n",
    "## 3.1 Variablen\n",
    "<div class=\"alert alert-info\">\n",
    "Wir überprüfen nun, ob die importierten Daten mit der geforderten Anzahl von 2675 Beobachtungen und 10 Variablen übereinstimmen. Wir sollten also ein $[2675 \\times 10]$ Dataframe erhalten haben.\n",
    "</div>"
   ]
  },
  {
   "cell_type": "code",
   "execution_count": 3,
   "metadata": {},
   "outputs": [
    {
     "name": "stdout",
     "output_type": "stream",
     "text": [
      "Der Datensatz enthält insgesamt 2675 Beobachtungen und 10 Variablen, was mit der geforderten Anzahl übereinstimmt\n"
     ]
    }
   ],
   "source": [
    "# Kontrolle ob das df die Richtige Anzahl an Beobachtungen enthält\n",
    "if df_total.shape[0] == 2675 and df_total.shape[1] == 10:\n",
    "    print(\"Der Datensatz enthält insgesamt\",df_total.shape[0],\"Beobachtungen und\", df_total.shape[1],\"Variablen, was mit der geforderten Anzahl übereinstimmt\")\n",
    "else:\n",
    "    print(\"Der Datensatz enthält insgesamt\",len(df_total), \"Beobachtungen und\", df_total.shape[1],\"Variablen, was nicht mit der geforderten Anzahl übereinstimmt\")"
   ]
  },
  {
   "cell_type": "markdown",
   "metadata": {},
   "source": [
    "<a id=\"6\"></a>\n",
    "# 4. Analyse"
   ]
  },
  {
   "cell_type": "markdown",
   "metadata": {},
   "source": [
    "<a id=\"7\"></a>\n",
    "## 4.1 Datenaufbereitung\n",
    "<div class=\"alert alert-info\">\n",
    "Die weiteren Schritte des Projekts verlangen eine Bereinigung der Daten. Alle nicht afroamerikanischen Personen werden aus dem Datensatz entfernt, in dem alle Beobachtungen mit einer anderen Zahl als 1 d.h. 0 aus der Dummy-Variable <i>black</i> herausgefiltert werden. Danach enthält die Spalte <i>black</i> keine weiteren relevanten Informationen und kann genauso wie die Spalte <i>hisp</i> und <i>RE74</i> gelöscht werden. Zur Vereinfachung wird die Reihenfolge der restlichen Spalten angepasst und eine neue Indexierung der Zeilen vorgenommen.\n",
    "</div>"
   ]
  },
  {
   "cell_type": "code",
   "execution_count": 4,
   "metadata": {},
   "outputs": [
    {
     "name": "stdout",
     "output_type": "stream",
     "text": [
      "Die Spalte Black entält die Werte:  [ 0.  1.]\n"
     ]
    }
   ],
   "source": [
    "####\n",
    "# Kontrolle ob die Spalte \"black\" wirklich nur aus 0 und 1 besteht\n",
    "print(\"Die Spalte Black entält die Werte: \" , df_total.black.unique())\n",
    "####\n",
    "\n",
    "# Alle Nichtafroamerikaner herausfiltern\n",
    "df = df_total[ df_total.black == 1 ]\n",
    "\n",
    "# Löschen der Spalten black, hisp und RE74 und neuanordnen der Spalten\n",
    "col_names = [\"treated\", \"married\", \"no-deg\", \"age\", \"educ\", \"RE75\",\"RE78\"]\n",
    "df = df[col_names]\n",
    "\n",
    "# Erneuert die Indexierung des df, nachdem die Beobachtungen anpegasst wurden\n",
    "df = df.reset_index(drop = True)"
   ]
  },
  {
   "cell_type": "markdown",
   "metadata": {},
   "source": [
    "<a id=\"8\"></a>\n",
    "## 4.2 Datensimulation\n",
    "<div class=\"alert alert-info\">\n",
    "In einem nächsten Schritt werden Daten mit gleichartigen Eigenschaften wie die ursprünglichen Beobachtungen simuliert und dabei 50 neue Dataframes erstellt. Wir verwenden dabei einen objektorientierten Programmierungsansatz und definieren die neue Klasse <i>Monte_Carlo</i>, die einen Dataframe sowie die abhängige Variable als Input-Parameter verlangt. Innerhalb dieser Klasse gibt es insgesamt 6 Methoden:\n",
    "<ol>\n",
    "  <li>\n",
    "      <b>dummies()</b> <br>\n",
    "      Die Methode prüft, bei welchen Zeilen es sich um Dummy-Variablen handelt und gibt diese in einer Liste zurück.\n",
    "  </li>\n",
    "  <li>\n",
    "      <b>dummy_groups()</b> <br>\n",
    "      Die Methode ruft eine Liste mit allen möglichen Kombinationen der Ausprägungen der Dummy-Variablen ab.\n",
    "  </li>\n",
    "   <li>\n",
    "      <b>indices()</b> <br>\n",
    "      Die Methode bestimmt die Zeilenindexe, in welchen die Dummy-Variablen eine bestimmte Kombination an Ausprägungen aufweisen. Für jede Kombinationsgruppen werden diese Indexe in einer Liste gespeichert und diese Listen wiederum in einer Liste zusammengefasst.\n",
    "  </li>\n",
    "   <li>\n",
    "      <b>means()</b> <br>\n",
    "      Die Methode berechnet für alle Beobachtungen einer Kombinationsgruppe den Durchschnittswert der unabhängigen Nicht-Dummy-Variablen. Für dieses Projekt sind dies die Durchschnittswerte der Variablen <i>age</i>, <i>educ</i> und <i>RE75</i>.\n",
    "  </li>\n",
    "   <li>\n",
    "      <b>covariances()</b> <br>\n",
    "      Die Methode macht dasselbe wie die Methode means(), nur berechnet sie die Kovarianzen der unabhängigen Nicht-Dummy-Variablen pro Kombinationsgruppe.\n",
    "  </li>\n",
    "  <li>\n",
    "      <b>monte_carlo()</b> <br>\n",
    "      Mithilfe der vorherigen fünf Methoden führt nun monte_carlo() die Monte Carlo Simulation durch. Der Default Wert für die Anzahl zu simulierenden Dataframes wurde dabei auf 50 gesetzt.\n",
    "  </li>\n",
    "</ol>\n",
    "Die erstellte Klasse wird nun in der Datei <i>Monte_Carlo.py</i> im gleichen Arbeitsverzeichnis wie diese Jupyter Notebook gespeichert.\n",
    "</div>"
   ]
  },
  {
   "cell_type": "code",
   "execution_count": 5,
   "metadata": {},
   "outputs": [
    {
     "name": "stdout",
     "output_type": "stream",
     "text": [
      "Overwriting Monte_Carlo.py\n"
     ]
    }
   ],
   "source": [
    "%%file Monte_Carlo.py\n",
    "\n",
    "import numpy as np\n",
    "import random,time\n",
    "import ipywidgets as widgets\n",
    "\n",
    "class Monte_Carlo:\n",
    "    \"\"\"\n",
    "    Monte_Carlo simuliert Daten mit dem selben Durchschnitt\n",
    "    und der selben Kovarianz wie die eingegebenen Daten\n",
    "    \"\"\"\n",
    "    def __init__(self, df, y):\n",
    "        self.df = df\n",
    "        # Liste aller unabhängier Variablen ohne Dummies\n",
    "        variables = [variable for variable in list(df.columns.values) if variable not in [\"treated\", \"no-deg\", \"married\"] + [\"RE78\"]]\n",
    "        # Spaltenindex der ersten unabhängier Variablen ohne Dummies\n",
    "        self.start = df.columns.get_loc(variables[0])\n",
    "        # Spaltenindex der letzten Variablen\n",
    "        self.stopp = self.start + len(variables)\n",
    "        \n",
    "    def dummies(self):\n",
    "        no_dummies = []\n",
    "        dummies = []\n",
    "        # Ruft alle Spaltennamen ab\n",
    "        columns = self.df.columns\n",
    "        # Findet alle Spalten die KEINE Dummy Variablen enthalten\n",
    "        for column in columns:\n",
    "            no_dummies += no_dummies + [column for cell in self.df[column] if cell != 1.0 and cell != 0.0]\n",
    "        no_dummies = set(no_dummies)\n",
    "        # Findet alle Spalten die eine Dummy Variabel enthält\n",
    "        for i in self.df.columns:\n",
    "            if i not in no_dummies:\n",
    "                dummies.append(i)\n",
    "        return dummies\n",
    "\n",
    "    def dummy_groups(self):\n",
    "        groups = []\n",
    "        # Ruft die Vorherige Methode auf um alle Dummy Spalten zu bekommen\n",
    "        dummies = self.dummies()\n",
    "        # Macht für jede Zeile einen Vektor, der aus den Ausprägungen aller Dummy Variablen besteht\n",
    "        # und fasst all diese Vektoren in einer List zusammen\n",
    "        all_groups = [row for row in self.df[dummies].as_matrix().astype(int).tolist()]\n",
    "        # Macht aus der Vektor-Liste eine neue Liste, in welchem jeder Vektor einmalig ist\n",
    "        for group in all_groups:\n",
    "            if group not in groups:\n",
    "                groups.append(group)\n",
    "        return groups\n",
    "    \n",
    "    def indices(self):\n",
    "        # Kreiert eine Liste mit Unterlisten, welche die Indexe für jede Dummy-Gruppe enthalten\n",
    "        indices = []\n",
    "        # Kreiert eine Liste aller unabhängigen Variablen ohne Dummies\n",
    "        dummies = self.dummies()\n",
    "        for i in self.dummy_groups():\n",
    "            # Dieser Schritt könnte Mithilfe der dummies() Methode veralgemeinert werden.\n",
    "            # Do this as list comprehension\n",
    "            index = self.df[ ( self.df[dummies[0]] == i[0] ) & ( self.df[dummies[1]] == i[1] ) & ( self.df[dummies[2]] == i[2] ) ].index\n",
    "            indices.append(index)\n",
    "        return indices\n",
    "\n",
    "    # Berechnet die Durchschnitte für jede Dummy-Gruppe\n",
    "    def means(self):\n",
    "        indices = self.indices()\n",
    "        means = []\n",
    "        for i in indices:\n",
    "            mean = self.df.iloc[ i, self.start : self.stopp ].mean()\n",
    "            means.append(mean)\n",
    "        return means\n",
    "        \n",
    "    # Berechnet die Kovarianzen für jede Dummy-Gruppe\n",
    "    def covariances(self):\n",
    "        covs = []\n",
    "        indices = self.indices()\n",
    "        for i in indices:\n",
    "            cov = self.df.iloc[ i, self.start : self.stopp ].cov()\n",
    "            covs.append(cov)\n",
    "        return covs\n",
    "    \n",
    "    def monte_carlo(self, iterations = 50):\n",
    "        # Zuvor definierte Methoden werden abgerufen\n",
    "        indices = self.indices()\n",
    "        means = self.means()\n",
    "        covariances = self.covariances()\n",
    "        df = self.df\n",
    "        dummy_groups = self.dummy_groups()\n",
    "        \n",
    "        # Widget für Ladebalken\n",
    "        w = widgets.IntProgress(\n",
    "        value=0,\n",
    "        min=0,\n",
    "        max=iterations,\n",
    "        step=1,\n",
    "        description='Loading:',\n",
    "        bar_style='success',\n",
    "        orientation='horizontal'\n",
    "        )\n",
    "        display(w)\n",
    "        \n",
    "        # Eine leere Liste in der die simulierten dfs angefügt werden.\n",
    "        mc_dfs = []\n",
    "        # Standardmässig werden 50 Iterationen durchgeführt\n",
    "        for i in range(0,iterations):\n",
    "            # Originales df wird kopiert\n",
    "            df_MC = df.copy()\n",
    "            # Für jede der 8 Dummy-Gruppen werden die Werte durch Simulationen ersetzt, \n",
    "            # welche den Mittelwert und die Kovarianz berücksichtigen.\n",
    "            for j in range(0,len(dummy_groups)):\n",
    "                df_MC.iloc[ indices[j], self.start : self.stopp ] = np.random.multivariate_normal( means[j], covariances[j], len( indices[j] ) )        \n",
    "            mc_dfs.append(df_MC)\n",
    "            w.value = w.value + 1\n",
    "        w.close()\n",
    "\n",
    "        return mc_dfs"
   ]
  },
  {
   "cell_type": "code",
   "execution_count": 6,
   "metadata": {
    "collapsed": true
   },
   "outputs": [],
   "source": [
    "run Monte_Carlo.py"
   ]
  },
  {
   "cell_type": "markdown",
   "metadata": {},
   "source": [
    "<div class=\"alert alert-info\">\n",
    "Nachdem die erstellte Funktion importiert wurde, kann nun ihr Docstring-Beschreibung abgerufen werden\n",
    "</div>"
   ]
  },
  {
   "cell_type": "code",
   "execution_count": 7,
   "metadata": {
    "collapsed": true
   },
   "outputs": [],
   "source": [
    "??Monte_Carlo()"
   ]
  },
  {
   "cell_type": "markdown",
   "metadata": {},
   "source": [
    "<div class=\"alert alert-info\">\n",
    "Dank der zuvor definierten Funktion ist  die eigentliche Implementierung der Monte Carlo Simulation sehr effizient und wenige Zeilen Code reichen dafür aus. Diese einfache Handhabung veranschaulicht den Vorteil der objektorientierten Programmierung. <br>\n",
    "Nach der Simulation von neuen Datensätzen müssen die Variablen <i>age</i> und <i>educ</i> ganzzahlig gemacht werden, da wir nur volles Alter und volle Ausbildungsjahre berücksichtigen.\n",
    "</div>"
   ]
  },
  {
   "cell_type": "code",
   "execution_count": 8,
   "metadata": {},
   "outputs": [
    {
     "data": {
      "application/vnd.jupyter.widget-view+json": {
       "model_id": "5bc3cf4c0e9f435fbf3c9eeaafb44e79",
       "version_major": 2,
       "version_minor": 0
      },
      "text/plain": [
       "A Jupyter Widget"
      ]
     },
     "metadata": {},
     "output_type": "display_data"
    }
   ],
   "source": [
    "# Klasse Initialisieren\n",
    "MonteC = Monte_Carlo(df, \"RE78\")\n",
    "dummy_groups = MonteC.dummy_groups()\n",
    "indices = MonteC.indices()\n",
    "means = MonteC.means()\n",
    "covariances = MonteC.covariances()\n",
    "\n",
    "# Schreiben eine Liste mit 50 simulierten Dataframes.\n",
    "df_sim_list = MonteC.monte_carlo()\n",
    "\n",
    "# Die Variablen age und educ werden auf ganze Zahlen gerundet\n",
    "for i in range(0, 50):\n",
    "    df_sim_list[i][\"age\"] = df_sim_list[i][\"age\"].round(decimals=0)\n",
    "    df_sim_list[i][\"educ\"] = df_sim_list[i][\"educ\"].round(decimals=0)"
   ]
  },
  {
   "cell_type": "markdown",
   "metadata": {},
   "source": [
    "<div class=\"alert alert-info\">\n",
    "Die folgende Tabelle vergleicht die Maxima und Minima eines zufälligen simulierten Dataframes mit jenen der empirischen Daten. Es fällt auf, dass die simulierten Daten die empirischen Beobachtungen oftmals unter- bzw. überschreiten, was nicht erwünscht ist. Gemäss Email-Rückfrage (vom 30.05.18) werden diese Werte durch die empirischen Maxima und Minima ersetzt.<br>\n",
    "<br>\n",
    "Alternativ könnten durch die folgende Methode Daten innerhalb eines Intervalls zufällig generiert werden. <br>\n",
    "<code>import scipy.stats\n",
    "samples = scipy.stats.truncnorm.rvs((lower-mu)/sigma,(upper-mu)/sigma,loc=mu,scale=sigma,size=N)\n",
    "</code>\n",
    "</div>"
   ]
  },
  {
   "cell_type": "code",
   "execution_count": 9,
   "metadata": {},
   "outputs": [
    {
     "data": {
      "text/html": [
       "<div>\n",
       "<style>\n",
       "    .dataframe thead tr:only-child th {\n",
       "        text-align: right;\n",
       "    }\n",
       "\n",
       "    .dataframe thead th {\n",
       "        text-align: left;\n",
       "    }\n",
       "\n",
       "    .dataframe tbody tr th {\n",
       "        vertical-align: top;\n",
       "    }\n",
       "</style>\n",
       "<table border=\"1\" class=\"dataframe\">\n",
       "  <thead>\n",
       "    <tr style=\"text-align: right;\">\n",
       "      <th></th>\n",
       "      <th>RE75</th>\n",
       "      <th>age</th>\n",
       "      <th>educ</th>\n",
       "    </tr>\n",
       "  </thead>\n",
       "  <tbody>\n",
       "    <tr>\n",
       "      <th>Max empirisch</th>\n",
       "      <td>51842.371000</td>\n",
       "      <td>55.0</td>\n",
       "      <td>17.0</td>\n",
       "    </tr>\n",
       "    <tr>\n",
       "      <th>Max simuliert</th>\n",
       "      <td>42064.435764</td>\n",
       "      <td>66.0</td>\n",
       "      <td>16.0</td>\n",
       "    </tr>\n",
       "    <tr>\n",
       "      <th>Min empirisch</th>\n",
       "      <td>0.000000</td>\n",
       "      <td>17.0</td>\n",
       "      <td>2.0</td>\n",
       "    </tr>\n",
       "    <tr>\n",
       "      <th>min simuliert</th>\n",
       "      <td>-13263.703456</td>\n",
       "      <td>-1.0</td>\n",
       "      <td>2.0</td>\n",
       "    </tr>\n",
       "  </tbody>\n",
       "</table>\n",
       "</div>"
      ],
      "text/plain": [
       "                       RE75   age  educ\n",
       "Max empirisch  51842.371000  55.0  17.0\n",
       "Max simuliert  42064.435764  66.0  16.0\n",
       "Min empirisch      0.000000  17.0   2.0\n",
       "min simuliert -13263.703456  -1.0   2.0"
      ]
     },
     "metadata": {},
     "output_type": "display_data"
    }
   ],
   "source": [
    "# Daten mit empirischen und simulierten Maxima und Minima\n",
    "data = { 'age': [ df[\"age\"].max(), df_sim_list[3][\"age\"].max(), df[\"age\"].min(), df_sim_list[3][\"age\"].min()], \n",
    "         'educ': [ df[\"educ\"].max(), df_sim_list[3][\"educ\"].max(), df[\"educ\"].min() , df_sim_list[3][\"educ\"].min()], \n",
    "         'RE75': [ df[\"RE75\"].max(), df_sim_list[3][\"RE75\"].max(), df[\"RE75\"].min(), df_sim_list[3][\"RE75\"].min()]}\n",
    "df1 = pd.DataFrame( data, index = [ 'Max empirisch', 'Max simuliert', 'Min empirisch', \"min simuliert\" ] )\n",
    "display(df1)"
   ]
  },
  {
   "cell_type": "code",
   "execution_count": 10,
   "metadata": {
    "collapsed": true
   },
   "outputs": [],
   "source": [
    "# Ersetzt in den simulierten Daten die Werte oberhalb und unterhalb der emirschen Maxima btw. Minima\n",
    "for i in range(0, 50):    \n",
    "    df_sim_list[i].iloc[df_sim_list[i][df_sim_list[i][\"age\"] > round(df[\"age\"].max())].index, 3:4] = round(df[\"age\"].max())\n",
    "    df_sim_list[i].iloc[df_sim_list[i][df_sim_list[i][\"age\"] < round(df[\"age\"].min())].index, 3:4] = round(df[\"age\"].min())\n",
    "    df_sim_list[i].iloc[df_sim_list[i][df_sim_list[i][\"educ\"] > round(df[\"educ\"].max())].index, 4:5] = round(df[\"educ\"].max())\n",
    "    df_sim_list[i].iloc[df_sim_list[i][df_sim_list[i][\"educ\"] < round(df[\"educ\"].min())].index, 4:5] = round(df[\"educ\"].min())\n",
    "    df_sim_list[i].iloc[df_sim_list[i][df_sim_list[i][\"RE75\"] > round(df[\"RE75\"].max())].index, 5:6] = round(df[\"RE75\"].max())\n",
    "    df_sim_list[i].iloc[df_sim_list[i][df_sim_list[i][\"RE75\"] < round(df[\"RE75\"].min())].index, 5:6] = round(df[\"RE75\"].min())"
   ]
  },
  {
   "cell_type": "markdown",
   "metadata": {},
   "source": [
    "<div class=\"alert alert-info\">\n",
    "Es gibt nun 50 Dataframes mit simulierten Daten. Einen Überblick über die simulierten Daten kann man sich mithilfe der folgenden Grafiken verschaffen. Der simulierte Dataframe kann mit dem Schieberegler und die unabhängige Variable durch die Tasten ausgewählt werden können. Im Histogramm wird die empirische Verteilung mit der jeweiligen simulierten Verteilung verglichen. Der Scatter Plot hat die simulierte Verteilung auf der y-Achse und die empirische Verteilung auf der x-Achse. Zu guter Letzt findet man einen Boxplot der jeweiligen simulierten Werte.\n",
    "</div>"
   ]
  },
  {
   "cell_type": "code",
   "execution_count": 11,
   "metadata": {
    "scrolled": false
   },
   "outputs": [
    {
     "data": {
      "application/vnd.jupyter.widget-view+json": {
       "model_id": "7be10a8c4dfd46e9bfa6e66fa9a9b6a2",
       "version_major": 2,
       "version_minor": 0
      },
      "text/plain": [
       "A Jupyter Widget"
      ]
     },
     "metadata": {},
     "output_type": "display_data"
    },
    {
     "data": {
      "text/plain": [
       "<function __main__.plot_func>"
      ]
     },
     "execution_count": 11,
     "metadata": {},
     "output_type": "execute_result"
    }
   ],
   "source": [
    "%matplotlib inline\n",
    "import ipywidgets as widgets\n",
    "from ipywidgets import interact, interactive, fixed, interact_manual\n",
    "\n",
    "def plot_func(df_mc, variable):\n",
    "    fig = plt.figure(figsize = (8, 8))\n",
    "    ax1 = fig.add_subplot(2, 2, (3,4))\n",
    "    # Boxplot\n",
    "    ax1.boxplot(df_sim_list[df_mc][variable], vert = False)\n",
    "    ax1.set_title('Boxplot')\n",
    "    ax2 = fig.add_subplot(2, 2, 2)\n",
    "    # Scatter Plot\n",
    "    ax2.scatter(df_sim_list[df_mc][variable], df[variable], marker = 'x', s = 10)\n",
    "    # Regressionslinie\n",
    "    ax2.plot(np.unique(df_sim_list[df_mc][variable]), np.poly1d(np.polyfit(df_sim_list[df_mc][variable], df[variable], 1))(np.unique(df_sim_list[df_mc][variable])), \"r\")\n",
    "    ax2.set_title('Scatter Plot')\n",
    "    ax3 = fig.add_subplot(2, 2, 1)\n",
    "    # Hisogramm der simulierten Daten\n",
    "    ax3.hist(df_sim_list[df_mc][variable], alpha = 0.5)\n",
    "    # Hisogramm der empirischen Daten\n",
    "    ax3.hist(df[variable], alpha = 0.5)\n",
    "    ax3.set_title('Histogramm')\n",
    "    plt.show()\n",
    "    \n",
    "# Folgender Bereich definiert die Widgets, welche für die\n",
    "# Interaktion mit dem Benutzer verwendet werden.\n",
    "interact(plot_func, \n",
    "         df_mc = widgets.IntSlider(\n",
    "                value=0,\n",
    "                min=0,\n",
    "                max=49,\n",
    "                step=1,\n",
    "                description='Datensatz:',\n",
    "                disabled=False,\n",
    "                continuous_update=False,\n",
    "                orientation='horizontal',\n",
    "                readout=True,\n",
    "                readout_format='d'),\n",
    "         variable = widgets.ToggleButtons(\n",
    "                    options=['RE75', 'age', 'educ'],\n",
    "                    description='Variable:',\n",
    "                    disabled=False,\n",
    "                    button_style='info', # 'success', 'info', 'warning', 'danger' or ''\n",
    "                    tooltips=['Description of slow', 'Description of regular', 'Description of fast'],\n",
    "                    ))"
   ]
  },
  {
   "cell_type": "markdown",
   "metadata": {},
   "source": [
    "<a id=\"9\"></a>\n",
    "## 4.3 Implementierung des Schätzverfahrens"
   ]
  },
  {
   "cell_type": "markdown",
   "metadata": {},
   "source": [
    "<a id=\"10\"></a>\n",
    "### 4.3.1 Algorithmus zur Schätzung des Effekts der Teilnahme am Beschäftigungsprogramm (inklusive Standardfehler)\n",
    "<div class=\"alert alert-info\">\n",
    "In einem nächsten Schritt wird der Effekt des Beschäftigungsprogrammes auf die Teilnehmer untersucht. Dazu verwenden wir die Schätzstatistik $\\hat{\\theta}$.\n",
    "$$\n",
    "\\hat{\\theta} = \\frac{1}{N}\\sum^{N}_{i = 1}(\\mu(1) - \\mu(1))\n",
    "$$\n",
    "<br>\n",
    "Die Schätzstatistik wurde unter Verwendung einer OLS-Regression berechnet. Wobei $\\mu(1)$ der geschätzten abhängien Variable <i>RE78</i> entspricht. $\\mu(1)$ wurde mit den Koeffizienten aus einer Regression mit nur Teilnehmern geschätzt. Diese Regression kann wie folgt beschrieben werden:\n",
    "<br>\n",
    "<br>\n",
    "$$\n",
    "\\rm\\small\n",
    "\\begin{align}\n",
    "\\begin{bmatrix}\n",
    "RE78_{1} \\\\\n",
    "RE78_{2} \\\\\n",
    "RE78_{3} \\\\\n",
    "\\vdots \\\\\n",
    "RE78_{156} \\\\\n",
    "\\end{bmatrix}\n",
    " =\n",
    " \\begin{bmatrix}\n",
    "1 & treated_{1} & married{1} & no-deg_{1} & age_{1} & educ_{1} & RE75_{1}\\\\\n",
    "1 & treated_{2} & married{2} & no-deg_{2} & age_{2} & educ_{2} & RE75_{2}\\\\\n",
    "1 & treated_{3} & married{3} & no-deg_{3} & age_{3} & educ_{3} & RE75_{3}\\\\\n",
    "\\vdots & \\vdots & \\vdots & \\vdots & \\vdots & \\vdots & \\vdots \\\\\n",
    "1 & treated_{156} & married_{156} & no-deg_{156} & age_{156} & educ_{156} & RE75_{156}\\\\\n",
    "\\end{bmatrix}   \n",
    "\\times    \n",
    "\\begin{bmatrix}\n",
    "\\beta_{0} \\\\\n",
    "\\beta_{1} \\\\\n",
    "\\beta_{2} \\\\\n",
    "\\vdots \\\\\n",
    "\\beta_{6} \\\\\n",
    "\\end{bmatrix}\n",
    "+\n",
    "\\begin{bmatrix}\n",
    "u_{1} \\\\\n",
    "u_{2} \\\\\n",
    "u_{3} \\\\\n",
    "\\vdots \\\\\n",
    "u_{156} \\\\\n",
    "\\end{bmatrix}\n",
    "\\end{align}\n",
    "$$\n",
    "<br>\n",
    "$\\mu(0)$ wiederum sind die geschätzten <i>RE78</i> aus einer Regression mit nur Nichtteilnehmern. Die Schätzstatistik nimmt nun die durchschnittliche Differenz zwischen geschätztem Teilnehmerlohn und geschätztem Nichtteilnehmerlohn im Jahr 1978 an.\n",
    "<br>\n",
    "<br>\n",
    "Um später Konfidenzintervalle berechnen zu können, benötigt man die Standardfehler der Schätzstatistiken. Zur Berechnung dieser verwenden wir die Standard-Bootstrapmethode und imitieren 19 Replikationen der ursprünglichen Daten. Aus jeder dieser Replikationen wird die Teststatistik $\\hat{\\theta}_{b}$ berechnet und schliesslich der Standardfehler $\\sigma(\\hat{\\theta})$ aus den 19 Teststatistiken ermittelt.\n",
    "</div>"
   ]
  },
  {
   "cell_type": "markdown",
   "metadata": {},
   "source": [
    "<div class=\"alert alert-info\">\n",
    "Wir erstellen zuerst die Funktion boostrap(), da diese in der nachfolgenden Klasse verwendet wird. boostrap() nimmt einen Dataframe, auf den die Bootstrap-Methode angewendet werden soll, als Input-Parameter. Daneben kann auch noch die Anzahl an Bootstrap Replikationen festgelegt werden. Standardmässig ist dieser Wert auf 19 Replikationen gesetzt.<br>\n",
    "<br>\n",
    "Durch Ausführen der Funktion werden zufällig Beobachtungen aus dem eingegeben Dataframe genommen und diese zu einem neuen Dataframe zusammengesetzt. Dadurch entsteht die geforderte Anzahl an replizierten Datensätzen. Diese Funktion wird im selben Arbeitsverzeichnis wie dieses Jupyter Notebok in der Datei bootstrap.py abgespeichert.\n",
    "</div>"
   ]
  },
  {
   "cell_type": "code",
   "execution_count": 12,
   "metadata": {},
   "outputs": [
    {
     "name": "stdout",
     "output_type": "stream",
     "text": [
      "Overwriting bootstrap.py\n"
     ]
    }
   ],
   "source": [
    "%%file bootstrap.py\n",
    "\n",
    "import numpy as np\n",
    "\n",
    "def bootstrap(df, B = 19):\n",
    "    \"\"\"\n",
    "    Die Funktion erzeugt eine definierte Anzahl Bootstrap Replikationen\n",
    "    für ein gegebenes Pandas Dataframe\n",
    "    \"\"\"\n",
    "    df_bootstrapped_list = []\n",
    "    for i in range(0,B):\n",
    "        # Zeilen mit zufälligen Indexzahlen Beobachtungen auswählen und neues df daraus erstellen \n",
    "        df_random = df.loc[np.random.randint(0, df.shape[0], df.shape[0]), :]\n",
    "        df_bootstrapped_list.append(df_random)\n",
    "    return df_bootstrapped_list"
   ]
  },
  {
   "cell_type": "markdown",
   "metadata": {},
   "source": [
    "<div class=\"alert alert-info\">\n",
    "Zur Berechnung der empirischen Teststatistik wenden wir erneut die objektorientierte Programmierung an. Wir definieren die Klasse Test_Statistics(). Diese Klasse benötigt einen Dataframe, eine Dummy-Variable als Vergleich (hier <i>treated</i>), eine abhängige Variable (hier <i>RE78</i>), sowie eine unbestimmte Anzahl an unabhängigen Variablen.<br>\n",
    "<br>\n",
    "Zuerst wird das eingegebene Dataframe mit einer Spalte bestehend aus Einsen ergänzt. Diese Spalte wird benötigt für die berechnung des Achsenabschnittsparameters. Danach werden die Berechnungen in den einzelnen Methoden durchgeführt:\n",
    "<ol>\n",
    "    <li>\n",
    "    Die Methoden 1 - 9 berechnen die einzelnen Elemente der Schätzstatistik. Auf diese Weise kann nicht nur die Schätzstatistik als Ganzes, sonder auch ihre einzelnen Komponenten abgerufen werden.\n",
    "    </li>\n",
    "    <li>\n",
    "    Die Methode theta_hat() berechnet die Schätzstatistik $\\hat{\\theta}$.\n",
    "    </li>\n",
    "    <li>\n",
    "    Die Methode standard_error_boot() beinhaltet die zuvor definierte Bootstrap Funktion. In einem ersten Teil werden die Bootstrap Replikationen der empirischen Daten erzeugt. Standardmässig werden 19 Replikationen induziert. Danach wird für jede Replikation die Schätzstatistik $\\hat{\\theta}$ berechnet und aus diesen Schätzstatistiken der Standardfehler ermittelt.\n",
    "    </li>\n",
    "</ol>\n",
    "Auch diese Funktion wird in einer Datei im selben Arbeitsverzeichnis wie dieses Jupyter Notebook abgespeichert.\n",
    "</div>"
   ]
  },
  {
   "cell_type": "code",
   "execution_count": 13,
   "metadata": {},
   "outputs": [
    {
     "name": "stdout",
     "output_type": "stream",
     "text": [
      "Overwriting Test_Statistics.py\n"
     ]
    }
   ],
   "source": [
    "%%file Test_Statistics.py\n",
    "\n",
    "from bootstrap import bootstrap\n",
    "import numpy as np\n",
    "import math\n",
    "\n",
    "class Test_Statistics:\n",
    "    \"\"\"\n",
    "    Berechnet die Schätzstatistik Theta-Dach sowie\n",
    "    den Standardfehler einer Bootstrap-Replikation.\n",
    "    \"\"\"\n",
    "\n",
    "    def __init__(self, df, compare, y, *x):\n",
    "        # Wir verwenden einen Klon damit das originale df erhalten bleibt\n",
    "        self.df = df.copy()\n",
    "        # Spalte mit Einsen an das df anfügen.\n",
    "        self.df[\"ones\"] = np.ones(self.df.shape[0])\n",
    "        self.compare = compare\n",
    "        self.y = y\n",
    "        self.x = x\n",
    "        # Spalte aller unabhängigen Variablen und des Achsenabschnittparameters.\n",
    "        self.columns = list(x) + [\"ones\"]\n",
    "        \n",
    "    def X(self): # Macht aus den X und nicht den Y Zeilen eine Matrix\n",
    "        X = self.df[self.columns].as_matrix()\n",
    "        return X\n",
    "        \n",
    "    def X1(self):\n",
    "        # Teilmatrix von Teilnehmern\n",
    "        X1 = self.df.loc[self.df[self.compare] == 1][self.columns].as_matrix()\n",
    "        return X1\n",
    "    \n",
    "    def X0(self):\n",
    "        # Teilmatrix von nicht Teilnehmern\n",
    "        X0 = self.df.loc[self.df[self.compare] == 0][self.columns].as_matrix()\n",
    "        return X0\n",
    "    \n",
    "    def y1(self):\n",
    "        # Einkommen 1978 von Teilnehmern\n",
    "        y1 = self.df.loc[self.df[self.compare] == 1][self.y].as_matrix()\n",
    "        return y1\n",
    "    \n",
    "    def y0(self):\n",
    "        # Einkommen 1978 von nicht Teilnehmern\n",
    "        y0 = self.df.loc[self.df[self.compare] == 0][self.y].as_matrix()\n",
    "        return y0\n",
    "    \n",
    "    def b1(self):\n",
    "        X1 = self.X1()\n",
    "        y1 = self.y1()\n",
    "        # Schätzung der Steigungsparameter nur mit Teilnehmern\n",
    "        b1 = np.dot(np.linalg.inv(np.dot(X1.T, X1)), np.dot(X1.T, y1))\n",
    "        return b1\n",
    "    \n",
    "    def b0(self):\n",
    "        X0 = self.X0()\n",
    "        y0 = self.y0()\n",
    "        # Schätzung der Steigungsparameter nur mit Nichtteilnehmern\n",
    "        b0 = np.dot(np.linalg.inv(np.dot(X0.T, X0)), np.dot(X0.T, y0))\n",
    "        return b0\n",
    "    \n",
    "    def mu_1(self):\n",
    "        X = self.X()\n",
    "        b1 = self.b1()\n",
    "        # Schätzung Einkommen 1978 mit Koeffizienten von Teilnehmern\n",
    "        mu_1 = np.dot(X, b1)\n",
    "        return mu_1\n",
    "    \n",
    "    def mu_0(self):\n",
    "        X = self.X()\n",
    "        b0 = self.b0()\n",
    "        # Schätzung Einkommen 1978 mit Koeffizienten von Nichtteilnehmern\n",
    "        mu_0 = np.dot(X, b0)\n",
    "        return mu_0\n",
    "    \n",
    "    def theta_hat(self):\n",
    "        X = self.X()\n",
    "        b1 = self.b1()\n",
    "        b0 = self.b0()\n",
    "        # Berechnung des Effekts Theta-Dach\n",
    "        theta_hat = (np.dot(X, b1) - np.dot(X, b0)).mean()\n",
    "        return theta_hat\n",
    "    \n",
    "    def standard_error_boot(self, B = 19):\n",
    "        # Führt die bootstrap() Funktion aus und erzeugt default-mässig 19 Replikationen\n",
    "        df_b_list = bootstrap(self.df, B)\n",
    "        # Schätzstatistik Theta-Dach für jede Replikation berechnen\n",
    "        theta_hat_b_list = [Test_Statistics(df_b, self.compare, self.y, *self.x).theta_hat() for df_b in df_b_list]\n",
    "        #Standardfehler der Schätzstatistiken berechnen\n",
    "        std_theta_hat = np.std(theta_hat_b_list)\n",
    "        return std_theta_hat"
   ]
  },
  {
   "cell_type": "code",
   "execution_count": 14,
   "metadata": {},
   "outputs": [
    {
     "data": {
      "text/plain": [
       "<matplotlib.figure.Figure at 0x15c99b064a8>"
      ]
     },
     "metadata": {},
     "output_type": "display_data"
    }
   ],
   "source": [
    "run Test_Statistics.py"
   ]
  },
  {
   "cell_type": "markdown",
   "metadata": {},
   "source": [
    "<div class=\"alert alert-info\">\n",
    "Nun kommen wir zur eigentlichen Implementierung der Schätzung des Effekts am Beschäftigungsprogramm. Auch hier zeigt sich der Vorteil einer objektorientierten Programmierweise. Der Effekt und der Standardfehler können mit wenigen Eingaben abgerufen werden.\n",
    "</div>"
   ]
  },
  {
   "cell_type": "code",
   "execution_count": 15,
   "metadata": {
    "collapsed": true
   },
   "outputs": [],
   "source": [
    "# Klasse initialisieren\n",
    "Effects = Test_Statistics(df, 'treated', \"RE78\", \"age\", \"educ\", \"married\", \"no-deg\", \"RE75\")\n",
    "# Berechnung der Schätzstatistik der empirischen Daten\n",
    "theta_hat = Effects.theta_hat()\n",
    "# Berechnung des Standardfehlers \n",
    "std_theta_hat = Effects.standard_error_boot()"
   ]
  },
  {
   "cell_type": "code",
   "execution_count": 16,
   "metadata": {},
   "outputs": [
    {
     "name": "stdout",
     "output_type": "stream",
     "text": [
      "Theta-Dach des empirischen Dataframes: \t\t\t\t\t -4707.66428492\n",
      "Bootstrap Standardfehler des Theta-Dach des empirischen Dataframes: \t 2077.91292753\n"
     ]
    }
   ],
   "source": [
    "print(\"Theta-Dach des empirischen Dataframes: \\t\\t\\t\\t\\t\", theta_hat)\n",
    "print(\"Bootstrap Standardfehler des Theta-Dach des empirischen Dataframes: \\t\", std_theta_hat)"
   ]
  },
  {
   "cell_type": "markdown",
   "metadata": {},
   "source": [
    "<a id=\"11\"></a>\n",
    "### 4.3.2 Algorithmus zur Schätzung simulierten Effekte inklusive Standardfehler"
   ]
  },
  {
   "cell_type": "markdown",
   "metadata": {},
   "source": [
    "<div class=\"alert alert-info\">\n",
    "Das gleiche Vorgehen wie unter Abschnitt 4.3.1 wird nun auch für jeden in der Monte Carlo Simulation generierten Dataframe durchgeführt. Erneut werden der Effekt mithilfe der Schätzstatistik $\\hat{\\theta}_{sim}$ sowie der Standardfehler $\\hat{\\sigma}(\\hat{\\theta}_{sim})$ durch die Bootstrap-Methode berechnet. <br>\n",
    "<br>\n",
    "Da sich die Schätzstatistik der simulierten Daten $\\hat{\\theta}_{sim}$ von jener der empirischen Daten unterscheidet, definieren wir eine neue Klasse Test_Statistics_Sim(), welche die abgeänderte Schätzstatistik berechnet. Dazu können wir die verwendeten Methoden aus der Klasse Test_Statistics() erben, sodass diese auch in der neuen Klasse verfügbar sind.<br>\n",
    "<br>\n",
    "Mithilfe der geerbten Attribute und Methoden, die bereits in Test_Statistics() definiert wurden, berechnen wir alle notwendigen Variablen, um die Gleichungen 7 - 9 zu berechnen.<br>\n",
    "<br>\n",
    "Gleichungen 8 und 9, zur Berechnung von $\\mu_{sim}(1)$ und $\\mu_{sim}(0)$ werden durch die Methoden .mu_sim() und .mu_sim0() definiert. \n",
    "Mithilfe dieser Methoden definieren wir Gleichung 7, zur Berechnung von $\\hat{\\theta}_{sim}$ als Methode .theta_hat_sim()<br>\n",
    "<br>\n",
    "Zuletzt wird wieder mithilfe der Bootstrap Methode der Standardfehler $\\hat{\\sigma}(\\hat{\\theta}_{sim})$ durch die Methode standard_error_sim_boot() berechnet, welche die veränderte Berechnung von $\\hat{\\theta}_{sim}$ berücksichtigt.\n",
    "</div>"
   ]
  },
  {
   "cell_type": "code",
   "execution_count": 17,
   "metadata": {},
   "outputs": [
    {
     "name": "stdout",
     "output_type": "stream",
     "text": [
      "Overwriting Test_Statistics_Sim.py\n"
     ]
    }
   ],
   "source": [
    "%%file Test_Statistics_Sim.py\n",
    "\n",
    "import numpy as np\n",
    "import math\n",
    "\n",
    "# Funktionen die in der standard_error Methode gebraucht werden importieren.\n",
    "from bootstrap import bootstrap\n",
    "from Test_Statistics import Test_Statistics\n",
    "\n",
    "class Test_Statistics_Sim(Test_Statistics):\n",
    "    \"\"\"\n",
    "    Berechnet die angepasste Schätzstatistik Theta-Dach für Simulationsdaten sowie\n",
    "    den Standardfehler einer Bootstrap-Replikation von diesen Daten.\n",
    "    \"\"\"\n",
    "    def __init__(self, df, compare, y, *x):\n",
    "        super().__init__(df, compare, y, *x)\n",
    "         # Attribute für die simulierten Dataframes\n",
    "        self.N = self.df.shape[0]\n",
    "        self.u = [np.random.normal() for i in range(0,self.N)]\n",
    "        self.v = [np.random.normal() for i in range(0,self.N)]\n",
    "        \n",
    "    def K(self):\n",
    "        # Spalten von X\n",
    "        K = self.X().shape[1]\n",
    "        return K\n",
    "    \n",
    "    def N1(self):\n",
    "        # Anzahl Teilnehmer\n",
    "        N1 = len(self.df.loc[self.df[self.compare] == 1])\n",
    "        return N1\n",
    "    \n",
    "    def N0(self):\n",
    "        # Anzahl Nichtteilnehmer\n",
    "        N0 = len(self.df.loc[self.df[self.compare] == 0])\n",
    "        return N0\n",
    "    \n",
    "    def ssr1(self):\n",
    "        # Sum of Squared Residuals aus der Regression mit nur Teilnehmer\n",
    "        ssr1 = sum((np.dot(self.X1(),self.b1())-self.y1())**2)\n",
    "        return ssr1\n",
    "    \n",
    "    def ssr0(self):\n",
    "        # Sum of Squared Residuals aus der Regression mit nur Nichtteilnehmer\n",
    "        ssr0 = sum((np.dot(self.X0(),self.b0())-self.y0())**2)\n",
    "        return ssr0\n",
    "        \n",
    "    def mu_sim1(self):\n",
    "        mu_sim1 = np.dot(self.X(),self.b1()) + np.dot(self.u,math.sqrt(self.ssr1()/(self.N1()-self.K())))\n",
    "        return mu_sim1\n",
    "\n",
    "    def mu_sim0(self):\n",
    "        mu_sim0 = np.dot(self.X(),self.b0()) + np.dot(self.v,math.sqrt(self.ssr0()/(self.N0()-self.K())))\n",
    "        return mu_sim0\n",
    "    \n",
    "    def theta_hat_sim(self):\n",
    "        theta_hat_sim = sum(self.mu_sim1()-self.mu_sim0())/self.N\n",
    "        return theta_hat_sim\n",
    "\n",
    "    def standard_error_sim_boot(self, B = 19):\n",
    "        # Führt die bootstrap() Funktion aus und erzeugt default-mässig 19 Replikationen\n",
    "        df_b_list = bootstrap(self.df, B)\n",
    "        # Schätzstatistik Theta-Dach für jede Replikation berechnen\n",
    "        theta_hat_b_list = [Test_Statistics_Sim(df_b, self.compare, self.y, *self.x).theta_hat_sim() for df_b in df_b_list]\n",
    "        #Standardfehler ausrechnen\n",
    "        std_theta_hat = np.std(theta_hat_b_list)\n",
    "        return std_theta_hat"
   ]
  },
  {
   "cell_type": "code",
   "execution_count": 18,
   "metadata": {},
   "outputs": [],
   "source": [
    "run Test_Statistics_Sim.py"
   ]
  },
  {
   "cell_type": "markdown",
   "metadata": {},
   "source": [
    "<div class=\"alert alert-info\">\n",
    "Nachdem wir die Klasse geschrieben haben, werden wir diese nun initialisieren und für jeden der 50 simulierten Dataframes die Teststatistik $\\hat{\\theta}_{sim}$ sowie die Standardabweichung der Teststatistik $\\hat{\\sigma}(\\hat{\\theta}_{sim})$ berechnen.\n",
    "\n",
    "Da die simulierten Dataframes in einer Liste abgespeichert sind, loopen wir durch diese und erstellen zwei neue Listen für die Teststatistik (theta_hat_sim_list) und für den Standardfehler der  Teststatistik (std_theta_hat_sim_list).\n",
    "</div>"
   ]
  },
  {
   "cell_type": "code",
   "execution_count": 19,
   "metadata": {},
   "outputs": [
    {
     "name": "stdout",
     "output_type": "stream",
     "text": [
      "Berechnung für 5 von 50 Dataframes abgeschlossen\n",
      "Berechnung für 10 von 50 Dataframes abgeschlossen\n",
      "Berechnung für 15 von 50 Dataframes abgeschlossen\n",
      "Berechnung für 20 von 50 Dataframes abgeschlossen\n",
      "Berechnung für 25 von 50 Dataframes abgeschlossen\n",
      "Berechnung für 30 von 50 Dataframes abgeschlossen\n",
      "Berechnung für 35 von 50 Dataframes abgeschlossen\n",
      "Berechnung für 40 von 50 Dataframes abgeschlossen\n",
      "Berechnung für 45 von 50 Dataframes abgeschlossen\n",
      "Fertig\n"
     ]
    }
   ],
   "source": [
    "progress = 0 # Da die Berechnung einige Zeit benötigt printen wir den Fortschritt.\n",
    "theta_hat_sim_list = []\n",
    "std_theta_hat_sim_list = []\n",
    "\n",
    "for df_sim in df_sim_list:\n",
    "        \n",
    "    # Initialisierung der Klasse Test_Statistics_Sim() für jeden simulierten df\n",
    "    Effects_Sim = Test_Statistics_Sim(df_sim, 'treated', \"RE78\", \"age\", \"educ\", \"married\", \"no-deg\", \"RE75\")\n",
    "    # Schätzstatistik für jeden simulierten df\n",
    "    theta_hat_sim = Effects_Sim.theta_hat_sim()\n",
    "    # Bootstrap Standardfehler für jeden simulierten df\n",
    "    std_theta_hat_sim = Effects_Sim.standard_error_sim_boot()\n",
    "    \n",
    "    theta_hat_sim_list.append(theta_hat_sim)\n",
    "    std_theta_hat_sim_list.append(std_theta_hat_sim)\n",
    "    \n",
    "    # Zeigt kontinuierlich den Fortschritt, da die Berechnung länger dauert.\n",
    "    progress += 1\n",
    "    if progress == 50:\n",
    "        print(\"Fertig\")\n",
    "    elif progress%5 == 0:\n",
    "        print(\"Berechnung für\", progress,\"von\",len(df_sim_list),\"Dataframes abgeschlossen\")"
   ]
  },
  {
   "cell_type": "code",
   "execution_count": 20,
   "metadata": {},
   "outputs": [
    {
     "name": "stdout",
     "output_type": "stream",
     "text": [
      "Die ersten fünf Teststatistiken der simulierten Daten weisen folgende Werte auf:\n"
     ]
    },
    {
     "data": {
      "text/html": [
       "<div>\n",
       "<style>\n",
       "    .dataframe thead tr:only-child th {\n",
       "        text-align: right;\n",
       "    }\n",
       "\n",
       "    .dataframe thead th {\n",
       "        text-align: left;\n",
       "    }\n",
       "\n",
       "    .dataframe tbody tr th {\n",
       "        vertical-align: top;\n",
       "    }\n",
       "</style>\n",
       "<table border=\"1\" class=\"dataframe\">\n",
       "  <thead>\n",
       "    <tr style=\"text-align: right;\">\n",
       "      <th></th>\n",
       "      <th>$\\hat{\\sigma}(\\hat{\\theta}_{sim})$</th>\n",
       "      <th>$\\hat{\\theta}_{sim}$</th>\n",
       "    </tr>\n",
       "  </thead>\n",
       "  <tbody>\n",
       "    <tr>\n",
       "      <th>0</th>\n",
       "      <td>1869.108398</td>\n",
       "      <td>-9855.030124</td>\n",
       "    </tr>\n",
       "    <tr>\n",
       "      <th>1</th>\n",
       "      <td>2123.989279</td>\n",
       "      <td>-4111.503265</td>\n",
       "    </tr>\n",
       "    <tr>\n",
       "      <th>2</th>\n",
       "      <td>2307.198998</td>\n",
       "      <td>-8084.477744</td>\n",
       "    </tr>\n",
       "    <tr>\n",
       "      <th>3</th>\n",
       "      <td>2324.438667</td>\n",
       "      <td>-7665.764357</td>\n",
       "    </tr>\n",
       "    <tr>\n",
       "      <th>4</th>\n",
       "      <td>3148.446634</td>\n",
       "      <td>-3860.792054</td>\n",
       "    </tr>\n",
       "  </tbody>\n",
       "</table>\n",
       "</div>"
      ],
      "text/plain": [
       "   $\\hat{\\sigma}(\\hat{\\theta}_{sim})$  $\\hat{\\theta}_{sim}$\n",
       "0                         1869.108398          -9855.030124\n",
       "1                         2123.989279          -4111.503265\n",
       "2                         2307.198998          -8084.477744\n",
       "3                         2324.438667          -7665.764357\n",
       "4                         3148.446634          -3860.792054"
      ]
     },
     "execution_count": 20,
     "metadata": {},
     "output_type": "execute_result"
    }
   ],
   "source": [
    "# Ergebnisse der Berechnungen anzeigen\n",
    "simulated_test_stats = pd.DataFrame({r'$\\hat{\\theta}_{sim}$' : theta_hat_sim_list,\n",
    "                                     r'$\\hat{\\sigma}(\\hat{\\theta}_{sim})$' : std_theta_hat_sim_list})\n",
    "\n",
    "print(\"Die ersten fünf Teststatistiken der simulierten Daten weisen folgende Werte auf:\")\n",
    "simulated_test_stats.head()"
   ]
  },
  {
   "cell_type": "markdown",
   "metadata": {},
   "source": [
    "<a id=\"12\"></a>\n",
    "## 4.4 Evaluierung des Schätzverfahrens\n",
    "<div class=\"alert alert-info\">\n",
    "In einem letzten Schritt beurteilen wir unsere Implementierungen sowie das erzielte Ergebnis. Dazu wird zuerst eine Übersicht der empirischen Daten mit Mittelwerten und Standardabweichungen pro Variable für Teilnehmer und Nichtteilnehmer erzeugt und in einer Tabelle zusammengefasst.\n",
    "</div>"
   ]
  },
  {
   "cell_type": "code",
   "execution_count": 21,
   "metadata": {
    "collapsed": true
   },
   "outputs": [],
   "source": [
    "# Trennung nach Teilnehmern und Nichtteilnehmern\n",
    "df_treated = df[df.treated == 1]\n",
    "df_not_treated = df[df.treated == 0]\n",
    "df.columns\n",
    "\n",
    "means_treated = []\n",
    "std_treated = []\n",
    "means_not_treated = []\n",
    "std_not_treated = []\n",
    "cols = []\n",
    "\n",
    "# Durchschnitt und Standardabweichung für jede Spalte ausser \"treated\" berechnen\n",
    "for col in df.columns: \n",
    "    if col != \"treated\":\n",
    "        cols.append(col)\n",
    "        means_treated.append(df_treated[col].mean())\n",
    "        std_treated.append(df_treated[col].std())\n",
    "        means_not_treated.append(df_not_treated[col].mean())\n",
    "        std_not_treated.append(df_not_treated[col].std())\n",
    "        \n",
    "# in einem Pandas DataFrame zusammenfügen.\n",
    "tabelle1 = pd.DataFrame({\n",
    "    r'$\\mu$' ' Teilnehmer' : means_treated, \n",
    "    r'$\\sigma$' ' Teilnehmer' : std_treated,\n",
    "    r'$\\mu$' ' Nichtteilnehmer' : means_not_treated,\n",
    "    r'$\\sigma$' ' Nichtteilnehmer' : std_not_treated},\n",
    "    index = cols\n",
    ")"
   ]
  },
  {
   "cell_type": "markdown",
   "metadata": {},
   "source": [
    "<div class=\"alert alert-info\">\n",
    "Als nächstes benötigen wir die Resultate der Schätzung des simulierten und des tatsächlichen Effekts zusammen mit ihren Mittelwerten und Standardabweichungen. Auch diese Resultate werden in einer Tabelle zusammengefasst.\n",
    "</div>"
   ]
  },
  {
   "cell_type": "code",
   "execution_count": 22,
   "metadata": {
    "collapsed": true
   },
   "outputs": [],
   "source": [
    "# Erste Zeile\n",
    "Zeile1 = pd.DataFrame([theta_hat, np.mean(theta_hat_sim_list), np.std(theta_hat_sim_list)])\n",
    "# Zweite Zeile\n",
    "Zeile2 = pd.DataFrame([std_theta_hat, np.mean(std_theta_hat_sim_list), np.std(std_theta_hat_sim_list)])\n",
    "# Zusammenführen der beiden Zeilen\n",
    "tabelle2 = pd.concat( [ Zeile1.T, Zeile2.T ], axis = 0).reset_index(drop = True) # not very elegant since transposed\n",
    "# Anpassen der Spaltennamen\n",
    "tabelle2.columns = [\"Beobachtet\", r'$\\mu$' \" Simuliert\", r'$\\sigma$' \" Simuliert\"]\n",
    "# Anpassen der Zeilennamen\n",
    "tabelle2.index = [r'$\\hat{\\theta}$' \" bzw. \" r'$\\hat{\\theta}_{sim}$', \n",
    "                  r'$\\hat{\\sigma}(\\hat{\\theta})$' \" bzw. \" r'$\\hat{\\sigma}(\\hat{\\theta}_{sim})$']"
   ]
  },
  {
   "cell_type": "markdown",
   "metadata": {},
   "source": [
    "<div class=\"alert alert-info\">\n",
    "Aus den beiden Tabellen können einige interessante Schlussfolgerungen gezogen werden:\n",
    "<ol>\n",
    "    <li>\n",
    "    Wirft man zuerst einen Blick auf den durchschnittlichen Teilnehmer und Nichtteilnehmer, fällt auf, dass deutlich mehr der Teilnehmer im Schnitt über keinen Abschluss verfügen (no-deg==1) und auch unverheiratet sind (married==0). Die Anzahl Bildungsjahre wiederum ist im Schnitt bei beiden Gruppen ähnlich. Daneben sticht auch hervor, dass die Einkommensdifferenz zwischen Teilnehmern und Nichtteilnehmern von 1975 bis 1978 rapide zunimmt.\n",
    "    </li>\n",
    "    <li>\n",
    "    Vergleicht man das durchschnittliche Einkommen der Teilnehmer und Nichtteilnehmer im Jahr 1978, fällt auf, dass die Teilnehmer des Beschäftigungsprogrammes im Schnitt 9733 Dollar weniger verdienen als Nichtteilnehmer. Folglich scheint das Beschäftigungsprogramm einen negativen Effekt auf das Einkommen zu haben. Der geschätzte Effekt $\\hat{\\theta}$ aus den empirischen Daten geht auch von einem negativen Zusammenhang aus. Der geschätzte Unterschied liegt jedoch nur bei rund 4707 Dollar, die ein Teilnehmer weniger verdient. Der Durchschnitt der Schätzstatistik der simulierten Daten ist mit rund -7063 Dollar wiederum deutlich näher am tatsächlichen durchschnittlichen Unterschied.\n",
    "    </li>\n",
    "    <li>\n",
    "    Der durchschnittliche Bootstrap Standardfehler der simulierten Beobachtungen nimmt einen ähnlichen Wert an wie der Bootrstrap Standardfehler der empirischen Daten.\n",
    "    </li>\n",
    "</ol>\n",
    "Es ist nicht klar zu sagen, wieso der Effekt des Beschäftigungsprogramms als negativen Wert berechnet wird. Möglichkeiten dafür sind, dass eine ungeeignete Referenzgruppe ausgewählt wurde oder dass dieses falsche Anreize für die Teilnehmer schafft. Um dies herauszufinden müssen aber mehr Informationen zur Durchführung des Projekts betrachtet werden.\n",
    "</div>"
   ]
  },
  {
   "cell_type": "code",
   "execution_count": 23,
   "metadata": {},
   "outputs": [
    {
     "data": {
      "text/html": [
       "<div>\n",
       "<style>\n",
       "    .dataframe thead tr:only-child th {\n",
       "        text-align: right;\n",
       "    }\n",
       "\n",
       "    .dataframe thead th {\n",
       "        text-align: left;\n",
       "    }\n",
       "\n",
       "    .dataframe tbody tr th {\n",
       "        vertical-align: top;\n",
       "    }\n",
       "</style>\n",
       "<table border=\"1\" class=\"dataframe\">\n",
       "  <thead>\n",
       "    <tr style=\"text-align: right;\">\n",
       "      <th></th>\n",
       "      <th>$\\mu$ Nichtteilnehmer</th>\n",
       "      <th>$\\mu$ Teilnehmer</th>\n",
       "      <th>$\\sigma$ Nichtteilnehmer</th>\n",
       "      <th>$\\sigma$ Teilnehmer</th>\n",
       "    </tr>\n",
       "  </thead>\n",
       "  <tbody>\n",
       "    <tr>\n",
       "      <th>married</th>\n",
       "      <td>0.788462</td>\n",
       "      <td>0.185897</td>\n",
       "      <td>0.408727</td>\n",
       "      <td>0.390277</td>\n",
       "    </tr>\n",
       "    <tr>\n",
       "      <th>no-deg</th>\n",
       "      <td>0.530449</td>\n",
       "      <td>0.724359</td>\n",
       "      <td>0.499472</td>\n",
       "      <td>0.448276</td>\n",
       "    </tr>\n",
       "    <tr>\n",
       "      <th>age</th>\n",
       "      <td>34.161859</td>\n",
       "      <td>25.980769</td>\n",
       "      <td>10.518550</td>\n",
       "      <td>7.299555</td>\n",
       "    </tr>\n",
       "    <tr>\n",
       "      <th>educ</th>\n",
       "      <td>10.391026</td>\n",
       "      <td>10.314103</td>\n",
       "      <td>2.982719</td>\n",
       "      <td>2.059767</td>\n",
       "    </tr>\n",
       "    <tr>\n",
       "      <th>RE75</th>\n",
       "      <td>13975.246583</td>\n",
       "      <td>1490.722088</td>\n",
       "      <td>9169.791885</td>\n",
       "      <td>3296.553550</td>\n",
       "    </tr>\n",
       "    <tr>\n",
       "      <th>RE78</th>\n",
       "      <td>15869.556700</td>\n",
       "      <td>6136.320647</td>\n",
       "      <td>11837.640474</td>\n",
       "      <td>8143.465973</td>\n",
       "    </tr>\n",
       "  </tbody>\n",
       "</table>\n",
       "</div>"
      ],
      "text/plain": [
       "         $\\mu$ Nichtteilnehmer  $\\mu$ Teilnehmer  $\\sigma$ Nichtteilnehmer  \\\n",
       "married               0.788462          0.185897                  0.408727   \n",
       "no-deg                0.530449          0.724359                  0.499472   \n",
       "age                  34.161859         25.980769                 10.518550   \n",
       "educ                 10.391026         10.314103                  2.982719   \n",
       "RE75              13975.246583       1490.722088               9169.791885   \n",
       "RE78              15869.556700       6136.320647              11837.640474   \n",
       "\n",
       "         $\\sigma$ Teilnehmer  \n",
       "married             0.390277  \n",
       "no-deg              0.448276  \n",
       "age                 7.299555  \n",
       "educ                2.059767  \n",
       "RE75             3296.553550  \n",
       "RE78             8143.465973  "
      ]
     },
     "metadata": {},
     "output_type": "display_data"
    },
    {
     "data": {
      "text/html": [
       "<div>\n",
       "<style>\n",
       "    .dataframe thead tr:only-child th {\n",
       "        text-align: right;\n",
       "    }\n",
       "\n",
       "    .dataframe thead th {\n",
       "        text-align: left;\n",
       "    }\n",
       "\n",
       "    .dataframe tbody tr th {\n",
       "        vertical-align: top;\n",
       "    }\n",
       "</style>\n",
       "<table border=\"1\" class=\"dataframe\">\n",
       "  <thead>\n",
       "    <tr style=\"text-align: right;\">\n",
       "      <th></th>\n",
       "      <th>Beobachtet</th>\n",
       "      <th>$\\mu$ Simuliert</th>\n",
       "      <th>$\\sigma$ Simuliert</th>\n",
       "    </tr>\n",
       "  </thead>\n",
       "  <tbody>\n",
       "    <tr>\n",
       "      <th>$\\hat{\\theta}$ bzw. $\\hat{\\theta}_{sim}$</th>\n",
       "      <td>-4707.664285</td>\n",
       "      <td>-6698.965160</td>\n",
       "      <td>1954.774908</td>\n",
       "    </tr>\n",
       "    <tr>\n",
       "      <th>$\\hat{\\sigma}(\\hat{\\theta})$ bzw. $\\hat{\\sigma}(\\hat{\\theta}_{sim})$</th>\n",
       "      <td>2077.912928</td>\n",
       "      <td>2663.160156</td>\n",
       "      <td>592.824320</td>\n",
       "    </tr>\n",
       "  </tbody>\n",
       "</table>\n",
       "</div>"
      ],
      "text/plain": [
       "                                                     Beobachtet  \\\n",
       "$\\hat{\\theta}$ bzw. $\\hat{\\theta}_{sim}$           -4707.664285   \n",
       "$\\hat{\\sigma}(\\hat{\\theta})$ bzw. $\\hat{\\sigma}...  2077.912928   \n",
       "\n",
       "                                                    $\\mu$ Simuliert  \\\n",
       "$\\hat{\\theta}$ bzw. $\\hat{\\theta}_{sim}$               -6698.965160   \n",
       "$\\hat{\\sigma}(\\hat{\\theta})$ bzw. $\\hat{\\sigma}...      2663.160156   \n",
       "\n",
       "                                                    $\\sigma$ Simuliert  \n",
       "$\\hat{\\theta}$ bzw. $\\hat{\\theta}_{sim}$                   1954.774908  \n",
       "$\\hat{\\sigma}(\\hat{\\theta})$ bzw. $\\hat{\\sigma}...          592.824320  "
      ]
     },
     "metadata": {},
     "output_type": "display_data"
    }
   ],
   "source": [
    "display(tabelle1)\n",
    "display(tabelle2)"
   ]
  },
  {
   "cell_type": "markdown",
   "metadata": {},
   "source": [
    "<div class=\"alert alert-info\">\n",
    "Für jede simulierte Schätzstatistik $\\hat{\\theta}_{sim}$ wird nun ein 95%-Konfidenzintervall mithilfe der Bootstrap Standardfehler berechnet. Danach wird geprüft, bei welchem Anteil der Konfidenzintervallen sich die empirische Schätzstatistik $\\hat{\\theta}$ innerhalb des Intervalls befindet.\n",
    "</div>"
   ]
  },
  {
   "cell_type": "code",
   "execution_count": 24,
   "metadata": {},
   "outputs": [
    {
     "data": {
      "text/html": [
       "<div>\n",
       "<style>\n",
       "    .dataframe thead tr:only-child th {\n",
       "        text-align: right;\n",
       "    }\n",
       "\n",
       "    .dataframe thead th {\n",
       "        text-align: left;\n",
       "    }\n",
       "\n",
       "    .dataframe tbody tr th {\n",
       "        vertical-align: top;\n",
       "    }\n",
       "</style>\n",
       "<table border=\"1\" class=\"dataframe\">\n",
       "  <thead>\n",
       "    <tr style=\"text-align: right;\">\n",
       "      <th></th>\n",
       "      <th>2.5th percentile</th>\n",
       "      <th>97.5th percentile</th>\n",
       "    </tr>\n",
       "  </thead>\n",
       "  <tbody>\n",
       "    <tr>\n",
       "      <th>0</th>\n",
       "      <td>-13518.419034</td>\n",
       "      <td>-6191.641214</td>\n",
       "    </tr>\n",
       "    <tr>\n",
       "      <th>1</th>\n",
       "      <td>-8274.450036</td>\n",
       "      <td>51.443506</td>\n",
       "    </tr>\n",
       "    <tr>\n",
       "      <th>2</th>\n",
       "      <td>-12606.509337</td>\n",
       "      <td>-3562.446152</td>\n",
       "    </tr>\n",
       "    <tr>\n",
       "      <th>3</th>\n",
       "      <td>-12221.585113</td>\n",
       "      <td>-3109.943601</td>\n",
       "    </tr>\n",
       "    <tr>\n",
       "      <th>4</th>\n",
       "      <td>-10031.640409</td>\n",
       "      <td>2310.056301</td>\n",
       "    </tr>\n",
       "  </tbody>\n",
       "</table>\n",
       "</div>"
      ],
      "text/plain": [
       "   2.5th percentile  97.5th percentile\n",
       "0     -13518.419034       -6191.641214\n",
       "1      -8274.450036          51.443506\n",
       "2     -12606.509337       -3562.446152\n",
       "3     -12221.585113       -3109.943601\n",
       "4     -10031.640409        2310.056301"
      ]
     },
     "execution_count": 24,
     "metadata": {},
     "output_type": "execute_result"
    }
   ],
   "source": [
    "CIs = []\n",
    "for i in range(0, len(theta_hat_sim_list)):\n",
    "    # Konfindenzintervall für jede Simulation\n",
    "    CI = [theta_hat_sim_list[i] - 1.959966 * std_theta_hat_sim_list[i], theta_hat_sim_list[i] + 1.959966 * std_theta_hat_sim_list[i]]\n",
    "    CIs.append(CI)\n",
    "pd.DataFrame(CIs,  columns=[\"2.5th percentile\", \"97.5th percentile\"]).head()"
   ]
  },
  {
   "cell_type": "code",
   "execution_count": 25,
   "metadata": {},
   "outputs": [
    {
     "name": "stdout",
     "output_type": "stream",
     "text": [
      "In  84 % der Fälle ist theta_hat im 95% CI von theta_hat_sim.\n"
     ]
    }
   ],
   "source": [
    "# Prüfen ob die berechnete Teststatistik im Intervall liegt\n",
    "anteil = 0\n",
    "for CI in CIs:\n",
    "    if theta_hat > CI[0] and theta_hat < CI[1]:\n",
    "        anteil += 1\n",
    "\n",
    "# Prozentualer Anteil, welcher innerhalb des Intervalls liegt\n",
    "perc_theta_hat_in_CI = int(anteil/len(CIs)*100)\n",
    "print(\"In \",perc_theta_hat_in_CI,\"% der Fälle ist theta_hat im 95% CI von theta_hat_sim.\")"
   ]
  },
  {
   "cell_type": "markdown",
   "metadata": {},
   "source": [
    "<div class=\"alert alert-info\">\n",
    "Das Konfidenzintervall für jede simulierte Schätztstatistik $\\hat{\\theta}_{sim}$ gibt den Bereich an, in dem 95% der Schätzungen für diese Simulation liegen. Liegt nun die empirische Schätzstatistik $\\hat{\\theta}$ bei vielen der simulierten Werte innerhalb des jeweiligen Konfidenzintervalles, ist dies ein Hinweis dafür, dass simulierte Werte und empirische Daten eine identische Verteilung aufweisen. In diesem Projekt liegen rund 84% der empirischen Schätzstatistik innerhalb des Konfindenzintervalls der simulierten Schätzstatistik.\n",
    "</div>"
   ]
  },
  {
   "cell_type": "markdown",
   "metadata": {},
   "source": [
    "### Plot der Konfidenzintervalle"
   ]
  },
  {
   "cell_type": "code",
   "execution_count": 26,
   "metadata": {
    "collapsed": true
   },
   "outputs": [],
   "source": [
    "# Daten für das CI Plot vorbereiten\n",
    "theta_hat_50 = []\n",
    "CI_upper = []\n",
    "CI_lower = []\n",
    "for i in range(0,50):\n",
    "    theta_hat_50.append(theta_hat)\n",
    "    CI_upper.append(CIs[i][1])\n",
    "    CI_lower.append(CIs[i][0])"
   ]
  },
  {
   "cell_type": "code",
   "execution_count": 27,
   "metadata": {},
   "outputs": [
    {
     "name": "stdout",
     "output_type": "stream",
     "text": [
      "Overwriting plot_CI.py\n"
     ]
    }
   ],
   "source": [
    "%%file plot_CI.py\n",
    "\n",
    "import pandas as pd\n",
    "import matplotlib.pyplot as plt\n",
    "import matplotlib.patches as mpatches\n",
    "from matplotlib.colors import colorConverter as cc\n",
    "import matplotlib.mlab as mlab\n",
    "import math\n",
    "\n",
    "def plot_CI(theta_hat, lb, ub, color_mean=None, color_shading=True):\n",
    "    # Die gefärbte Fläche der Konfidenzintervalle anzeigen\n",
    "    plt.fill_between(range(pd.DataFrame(theta_hat).shape[0]), ub, lb,\n",
    "                     color=color_shading, alpha=.5)\n",
    "    # Das theta_hat darüber plotten\n",
    "    plt.plot(theta_hat, color_mean)"
   ]
  },
  {
   "cell_type": "code",
   "execution_count": 28,
   "metadata": {
    "collapsed": true
   },
   "outputs": [],
   "source": [
    "run plot_CI.py"
   ]
  },
  {
   "cell_type": "code",
   "execution_count": 29,
   "metadata": {},
   "outputs": [
    {
     "data": {
      "image/png": "[encoded data removed]",
      "text/plain": [
       "<matplotlib.figure.Figure at 0x15c99aebd30>"
      ]
     },
     "metadata": {},
     "output_type": "display_data"
    }
   ],
   "source": [
    "# plot the data\n",
    "fig = plt.figure(1, figsize=(10, 4))\n",
    "plot_CI(theta_hat_50, CI_upper, CI_lower, color_mean='r', color_shading='b')\n",
    "\n",
    "plt.title(\"95% Konfidenzintervalle der simulierten theta_hat\")\n",
    "plt.tight_layout()\n",
    "plt.grid()\n",
    "plt.show()"
   ]
  },
  {
   "cell_type": "markdown",
   "metadata": {
    "collapsed": true
   },
   "source": [
    "<div class=\"alert alert-info\">\n",
    "Dieses Plot zeigt die Konfidenzintervalle der Teststatistik für jeden der 50 simulierten Datensätze. Die rote Linie zeigt, den Schätzer $\\hat{\\theta}$, welchen wir aus den empirischen Daten berechnet haben. Im Plot wird sichtbar, wie häufig $\\hat{\\theta}$ in den berechneten Konfidenzintervallen liegt.\n",
    "<div>"
   ]
  }
 ],
 "metadata": {
  "kernelspec": {
   "display_name": "Python 3",
   "language": "python",
   "name": "python3"
  },
  "language_info": {
   "codemirror_mode": {
    "name": "ipython",
    "version": 3
   },
   "file_extension": ".py",
   "mimetype": "text/x-python",
   "name": "python",
   "nbconvert_exporter": "python",
   "pygments_lexer": "ipython3",
   "version": "3.6.4"
  }
 },
 "nbformat": 4,
 "nbformat_minor": 2
}
